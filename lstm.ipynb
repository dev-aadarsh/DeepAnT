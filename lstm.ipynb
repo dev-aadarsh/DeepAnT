{
 "cells": [
  {
   "cell_type": "markdown",
   "metadata": {
    "toc": true
   },
   "source": [
    "<h1>Table of Contents<span class=\"tocSkip\"></span></h1>\n",
    "<div class=\"toc\"><ul class=\"toc-item\"><li><span><a href=\"#LSTM\" data-toc-modified-id=\"LSTM-1\"><span class=\"toc-item-num\">1&nbsp;&nbsp;</span>LSTM</a></span></li></ul></div>"
   ]
  },
  {
   "cell_type": "code",
   "execution_count": 1,
   "metadata": {},
   "outputs": [],
   "source": [
    "import numpy as np\n",
    "import matplotlib.pyplot as plt                        \n",
    "import torch\n",
    "import pandas as pd\n",
    "import torchvision.models as models\n",
    "import torch.nn as nn\n",
    "import torch.nn.functional as F\n",
    "import torch.optim as optim"
   ]
  },
  {
   "cell_type": "markdown",
   "metadata": {},
   "source": [
    "# LSTM"
   ]
  },
  {
   "cell_type": "code",
   "execution_count": 2,
   "metadata": {},
   "outputs": [],
   "source": [
    "# load data\n",
    "\n",
    "ts_data = pd.read_csv('./A2Benchmark/synthetic_26.csv',index_col = 0)\n",
    "#ts_data = ts_data.astype('float')\n",
    "ts_data.head()\n",
    "a = list(ts_data.columns)\n",
    "a[1] = 'is_anomaly'\n",
    "ts_data.columns = a"
   ]
  },
  {
   "cell_type": "code",
   "execution_count": 3,
   "metadata": {},
   "outputs": [
    {
     "data": {
      "text/html": [
       "<div>\n",
       "<style scoped>\n",
       "    .dataframe tbody tr th:only-of-type {\n",
       "        vertical-align: middle;\n",
       "    }\n",
       "\n",
       "    .dataframe tbody tr th {\n",
       "        vertical-align: top;\n",
       "    }\n",
       "\n",
       "    .dataframe thead th {\n",
       "        text-align: right;\n",
       "    }\n",
       "</style>\n",
       "<table border=\"1\" class=\"dataframe\">\n",
       "  <thead>\n",
       "    <tr style=\"text-align: right;\">\n",
       "      <th></th>\n",
       "      <th>value</th>\n",
       "    </tr>\n",
       "    <tr>\n",
       "      <th>is_anomaly</th>\n",
       "      <th></th>\n",
       "    </tr>\n",
       "  </thead>\n",
       "  <tbody>\n",
       "    <tr>\n",
       "      <th>0</th>\n",
       "      <td>1412</td>\n",
       "    </tr>\n",
       "    <tr>\n",
       "      <th>1</th>\n",
       "      <td>9</td>\n",
       "    </tr>\n",
       "  </tbody>\n",
       "</table>\n",
       "</div>"
      ],
      "text/plain": [
       "            value\n",
       "is_anomaly       \n",
       "0            1412\n",
       "1               9"
      ]
     },
     "execution_count": 3,
     "metadata": {},
     "output_type": "execute_result"
    }
   ],
   "source": [
    "ts_data[['is_anomaly','value']].groupby('is_anomaly').count()"
   ]
  },
  {
   "cell_type": "code",
   "execution_count": 4,
   "metadata": {},
   "outputs": [],
   "source": [
    "# define train, valid, test\n",
    "\n",
    "train_percent = int(0.3*len(ts_data))\n",
    "valid_percent = int(0.1*len(ts_data))\n",
    "test_percent = int(0.6*len(ts_data))\n",
    "\n",
    "train_data = list(ts_data.iloc[:train_percent,0])\n",
    "valid_data = list(ts_data.iloc[train_percent:train_percent+valid_percent,0])\n",
    "test_data = list(ts_data.iloc[train_percent+valid_percent:,0])"
   ]
  },
  {
   "cell_type": "code",
   "execution_count": 5,
   "metadata": {},
   "outputs": [],
   "source": [
    "# set hyperparameters\n",
    "\n",
    "w = 45\n",
    "pred_window = w\n",
    "n_layers = 2\n",
    "hidden_dim = 256\n",
    "kernel_size = 2\n",
    "stride = 1\n",
    "pool_size = 2\n",
    "\n",
    "output_size = 1"
   ]
  },
  {
   "cell_type": "code",
   "execution_count": 6,
   "metadata": {},
   "outputs": [
    {
     "name": "stdout",
     "output_type": "stream",
     "text": [
      "(1, 381, 45)\n",
      "(97, 45)\n",
      "(1, 808, 45)\n"
     ]
    }
   ],
   "source": [
    "# split dataset into subsequences on which we will train\n",
    "\n",
    "def get_subsequences(data):\n",
    "    X = []\n",
    "    Y = []\n",
    "    idx = []\n",
    "    \n",
    "    for i in range(len(data) - w):\n",
    "        mean = np.mean(data[i:i+w])\n",
    "        std = np.std(data[i:i+w])\n",
    "        X.append((data[i:i+w]))\n",
    "        Y.append((data[i+1:i+w+1]))\n",
    "        idx.append(ts_data.index[train_percent+valid_percent+i+w])\n",
    "    return np.array(X),np.array(Y),idx\n",
    "\n",
    "trainX,trainY,_ = get_subsequences(train_data)\n",
    "trainX = np.reshape(trainX,(1,trainX.shape[0],trainX.shape[1]))\n",
    "print(trainX.shape)\n",
    "\n",
    "validX,validY,_ = get_subsequences(valid_data)\n",
    "print(validY.shape)\n",
    "validX = np.reshape(validX,(1,validX.shape[0],validX.shape[1]))\n",
    "\n",
    "testX,testY,test_idx = get_subsequences(test_data)\n",
    "testX = np.reshape(testX,(1,testX.shape[0],testX.shape[1]))\n",
    "print(testX.shape)\n",
    "\n",
    "batch_size = trainX.shape[1]\n",
    "\n",
    "size_valid = validX.shape[1]\n",
    "size_test = testX.shape[1]"
   ]
  },
  {
   "cell_type": "code",
   "execution_count": 7,
   "metadata": {},
   "outputs": [],
   "source": [
    "# LSTM model definition\n",
    "\n",
    "class LSTM(nn.Module):\n",
    "    \n",
    "    def __init__(self,batch_size):\n",
    "\n",
    "        super(LSTM, self).__init__()\n",
    "        self.batch_size = batch_size\n",
    "        \n",
    "        self.lstm = nn.LSTM(input_size=w,hidden_size=hidden_dim,num_layers = n_layers,dropout=0.5)\n",
    "        self.fc = nn.Linear(hidden_dim,pred_window)\n",
    "        self.dropout = nn.Dropout(0.5)\n",
    "    \n",
    "    \n",
    "    def forward(self, x, hidden):\n",
    "        \n",
    "        batch_size = x.shape[1]\n",
    "       # print(x.shape)\n",
    "        x,hidden = self.lstm(x,hidden)\n",
    "        x = x.contiguous().view(-1, hidden_dim)\n",
    "        x = self.dropout(x)\n",
    "        out =  (self.fc(x))\n",
    "        out = out.view(batch_size,-1,pred_window)\n",
    "        out = out[:,-1]\n",
    "\n",
    "        return out, hidden\n",
    "    \n",
    "    \n",
    "    def init_hidden(self,size):\n",
    "\n",
    "        weight = next(self.parameters()).data\n",
    "\n",
    "        hidden = (weight.new(n_layers, size, hidden_dim).zero_(),\n",
    "                      weight.new(n_layers, size, hidden_dim).zero_())\n",
    "\n",
    "        return hidden\n"
   ]
  },
  {
   "cell_type": "code",
   "execution_count": 8,
   "metadata": {},
   "outputs": [
    {
     "name": "stdout",
     "output_type": "stream",
     "text": [
      "LSTM(\n",
      "  (lstm): LSTM(45, 256, num_layers=2, dropout=0.5)\n",
      "  (fc): Linear(in_features=256, out_features=45, bias=True)\n",
      "  (dropout): Dropout(p=0.5, inplace=False)\n",
      ")\n"
     ]
    }
   ],
   "source": [
    "# define LSTM model\n",
    "\n",
    "lstm = LSTM(batch_size)\n",
    "print(lstm)"
   ]
  },
  {
   "cell_type": "code",
   "execution_count": 53,
   "metadata": {},
   "outputs": [],
   "source": [
    "# loss and optimizer declaration\n",
    "\n",
    "criterion = nn.L1Loss()\n",
    "optimizer = optim.Adam(lstm.parameters(), lr = 1e-4,weight_decay=1e-6)"
   ]
  },
  {
   "cell_type": "code",
   "execution_count": 10,
   "metadata": {},
   "outputs": [],
   "source": [
    "# function for fwd/back prop\n",
    "def forward_back_prop(lstm, optimizer, criterion, inp, target, hidden):\n",
    "        \n",
    "    hidden = tuple([each.data for each in hidden])\n",
    "    lstm.zero_grad()\n",
    "    output, hidden = lstm(inp, hidden)\n",
    "    loss = criterion(output.squeeze(), target)\n",
    "    loss.backward()\n",
    "    nn.utils.clip_grad_norm_(lstm.parameters(), 5)\n",
    "    optimizer.step()\n",
    "\n",
    "    return loss.item(), hidden\n",
    "\n",
    "# function to train LSTM model\n",
    "def train_lstm(n_epochs, trainX,trainY, validX,validY,lstm, optimizer, criterion,save_path,freq = 5):\n",
    "\n",
    "    target_train = torch.tensor(trainY).type('torch.FloatTensor')\n",
    "    data_train = torch.tensor(trainX).type('torch.FloatTensor')\n",
    "    \n",
    "    target_valid = torch.tensor(validY).type('torch.FloatTensor')\n",
    "    data_valid = torch.tensor(validX).type('torch.FloatTensor')\n",
    "    \n",
    "    train_loss_min = np.Inf\n",
    "    valid_loss_min = np.Inf\n",
    "    last_valid_loss = 0\n",
    "\n",
    "    print(\"Training for %d epoch(s)...\" % n_epochs)\n",
    "    for epoch in range(1, n_epochs + 1):\n",
    "        \n",
    "        # Training\n",
    "        hidden = lstm.init_hidden(batch_size)\n",
    "\n",
    "        lstm.train()\n",
    "        train_loss,hidden = forward_back_prop(lstm,optimizer,criterion,data_train,target_train,hidden)\n",
    "        \n",
    "        # Validation\n",
    "        lstm.eval()\n",
    "        hidden_valid = lstm.init_hidden(size_valid)\n",
    "        output_valid,hidden_valid = lstm(data_valid,hidden_valid)\n",
    "        \n",
    "        loss_valid = criterion(output_valid.squeeze(), target_valid)\n",
    "        valid_loss = loss_valid.item()\n",
    "        if(valid_loss == last_valid_loss):\n",
    "            print('problem')\n",
    "            \n",
    "        last_valid_loss = valid_loss\n",
    "        if(epoch%freq == 0):\n",
    "            print('Epoch: {} \\tTraining Loss: {:.6f} \\tValidation Loss: {:.6f}'.format(\n",
    "                epoch, \n",
    "                train_loss,\n",
    "                valid_loss\n",
    "                ))\n",
    "            \n",
    "        if valid_loss < valid_loss_min:\n",
    "            print('Validation loss decreased ({:.6f} --> {:.6f}).  Saving model ...'.format(\n",
    "            valid_loss_min,\n",
    "            valid_loss))\n",
    "            torch.save(lstm.state_dict(), save_path)\n",
    "            valid_loss_min = valid_loss\n",
    "            \n",
    "        train_loss_list.append(train_loss)\n",
    "        valid_loss_list.append(valid_loss)\n",
    "        \n",
    "    return lstm"
   ]
  },
  {
   "cell_type": "code",
   "execution_count": 54,
   "metadata": {},
   "outputs": [
    {
     "name": "stdout",
     "output_type": "stream",
     "text": [
      "Training for 500 epoch(s)...\n",
      "Validation loss decreased (inf --> 265.353546).  Saving model ...\n",
      "Validation loss decreased (265.353546 --> 265.350891).  Saving model ...\n",
      "Validation loss decreased (265.350891 --> 265.339630).  Saving model ...\n",
      "Epoch: 10 \tTraining Loss: 233.494370 \tValidation Loss: 265.395874\n",
      "Epoch: 20 \tTraining Loss: 233.498428 \tValidation Loss: 265.512024\n",
      "Epoch: 30 \tTraining Loss: 234.974869 \tValidation Loss: 265.501312\n",
      "Epoch: 40 \tTraining Loss: 238.244873 \tValidation Loss: 265.431213\n",
      "Epoch: 50 \tTraining Loss: 234.327835 \tValidation Loss: 265.391052\n",
      "Epoch: 60 \tTraining Loss: 234.505203 \tValidation Loss: 265.379608\n",
      "Validation loss decreased (265.339630 --> 265.300140).  Saving model ...\n",
      "Validation loss decreased (265.300140 --> 265.287415).  Saving model ...\n",
      "Epoch: 70 \tTraining Loss: 234.903870 \tValidation Loss: 265.293457\n",
      "Epoch: 80 \tTraining Loss: 233.974976 \tValidation Loss: 265.299103\n",
      "Validation loss decreased (265.287415 --> 265.265350).  Saving model ...\n",
      "Validation loss decreased (265.265350 --> 265.227417).  Saving model ...\n",
      "Validation loss decreased (265.227417 --> 265.217377).  Saving model ...\n",
      "Validation loss decreased (265.217377 --> 265.216339).  Saving model ...\n",
      "Epoch: 90 \tTraining Loss: 232.970886 \tValidation Loss: 265.220154\n",
      "Validation loss decreased (265.216339 --> 265.213074).  Saving model ...\n",
      "Epoch: 100 \tTraining Loss: 231.852936 \tValidation Loss: 265.212830\n",
      "Validation loss decreased (265.213074 --> 265.212830).  Saving model ...\n",
      "Validation loss decreased (265.212830 --> 265.211243).  Saving model ...\n",
      "Validation loss decreased (265.211243 --> 265.196533).  Saving model ...\n",
      "Validation loss decreased (265.196533 --> 265.165344).  Saving model ...\n",
      "Validation loss decreased (265.165344 --> 265.150665).  Saving model ...\n",
      "Validation loss decreased (265.150665 --> 265.100037).  Saving model ...\n",
      "Validation loss decreased (265.100037 --> 265.081390).  Saving model ...\n",
      "Epoch: 110 \tTraining Loss: 233.232391 \tValidation Loss: 265.204193\n",
      "Epoch: 120 \tTraining Loss: 233.672272 \tValidation Loss: 265.278900\n",
      "Epoch: 130 \tTraining Loss: 233.477219 \tValidation Loss: 265.104797\n",
      "Epoch: 140 \tTraining Loss: 233.754349 \tValidation Loss: 265.083405\n",
      "Validation loss decreased (265.081390 --> 265.079742).  Saving model ...\n",
      "Validation loss decreased (265.079742 --> 265.076385).  Saving model ...\n",
      "problem\n",
      "Epoch: 150 \tTraining Loss: 233.047211 \tValidation Loss: 265.113617\n",
      "Epoch: 160 \tTraining Loss: 234.094254 \tValidation Loss: 265.106781\n",
      "Epoch: 170 \tTraining Loss: 233.668823 \tValidation Loss: 265.086578\n",
      "Epoch: 180 \tTraining Loss: 235.598068 \tValidation Loss: 265.085236\n",
      "Epoch: 190 \tTraining Loss: 235.826920 \tValidation Loss: 265.077576\n",
      "Validation loss decreased (265.076385 --> 265.076263).  Saving model ...\n",
      "Validation loss decreased (265.076263 --> 265.043823).  Saving model ...\n",
      "Validation loss decreased (265.043823 --> 265.037903).  Saving model ...\n",
      "Epoch: 200 \tTraining Loss: 233.965179 \tValidation Loss: 265.049286\n",
      "Epoch: 210 \tTraining Loss: 235.444702 \tValidation Loss: 265.043823\n",
      "Epoch: 220 \tTraining Loss: 234.492844 \tValidation Loss: 265.053375\n",
      "Validation loss decreased (265.037903 --> 265.033813).  Saving model ...\n",
      "Validation loss decreased (265.033813 --> 265.026611).  Saving model ...\n",
      "Validation loss decreased (265.026611 --> 265.022980).  Saving model ...\n",
      "Validation loss decreased (265.022980 --> 265.021729).  Saving model ...\n",
      "Epoch: 230 \tTraining Loss: 234.041321 \tValidation Loss: 265.029938\n",
      "Epoch: 240 \tTraining Loss: 229.504639 \tValidation Loss: 265.035797\n",
      "Epoch: 250 \tTraining Loss: 232.756927 \tValidation Loss: 265.066528\n",
      "Validation loss decreased (265.021729 --> 264.992554).  Saving model ...\n",
      "Validation loss decreased (264.992554 --> 264.963104).  Saving model ...\n",
      "Validation loss decreased (264.963104 --> 264.948608).  Saving model ...\n",
      "Validation loss decreased (264.948608 --> 264.946686).  Saving model ...\n",
      "Epoch: 260 \tTraining Loss: 238.711929 \tValidation Loss: 264.978760\n",
      "problem\n",
      "problem\n",
      "Epoch: 270 \tTraining Loss: 234.890335 \tValidation Loss: 264.974579\n",
      "Epoch: 280 \tTraining Loss: 232.698212 \tValidation Loss: 264.959808\n",
      "Validation loss decreased (264.946686 --> 264.946106).  Saving model ...\n",
      "Epoch: 290 \tTraining Loss: 232.436768 \tValidation Loss: 264.945404\n",
      "Validation loss decreased (264.946106 --> 264.945404).  Saving model ...\n",
      "Validation loss decreased (264.945404 --> 264.944794).  Saving model ...\n",
      "Validation loss decreased (264.944794 --> 264.944061).  Saving model ...\n",
      "Validation loss decreased (264.944061 --> 264.937592).  Saving model ...\n",
      "Validation loss decreased (264.937592 --> 264.923950).  Saving model ...\n",
      "Validation loss decreased (264.923950 --> 264.922180).  Saving model ...\n",
      "Validation loss decreased (264.922180 --> 264.921509).  Saving model ...\n",
      "Validation loss decreased (264.921509 --> 264.920746).  Saving model ...\n",
      "Validation loss decreased (264.920746 --> 264.919830).  Saving model ...\n",
      "Validation loss decreased (264.919830 --> 264.918701).  Saving model ...\n",
      "Epoch: 300 \tTraining Loss: 233.585754 \tValidation Loss: 264.917023\n",
      "Validation loss decreased (264.918701 --> 264.917023).  Saving model ...\n",
      "Validation loss decreased (264.917023 --> 264.914337).  Saving model ...\n",
      "Validation loss decreased (264.914337 --> 264.911743).  Saving model ...\n",
      "Validation loss decreased (264.911743 --> 264.910095).  Saving model ...\n",
      "Validation loss decreased (264.910095 --> 264.909668).  Saving model ...\n",
      "Epoch: 310 \tTraining Loss: 233.397751 \tValidation Loss: 264.910828\n",
      "Epoch: 320 \tTraining Loss: 234.041748 \tValidation Loss: 264.913483\n",
      "Validation loss decreased (264.909668 --> 264.908356).  Saving model ...\n",
      "Validation loss decreased (264.908356 --> 264.906830).  Saving model ...\n",
      "Validation loss decreased (264.906830 --> 264.906281).  Saving model ...\n",
      "Validation loss decreased (264.906281 --> 264.905762).  Saving model ...\n",
      "Validation loss decreased (264.905762 --> 264.905365).  Saving model ...\n",
      "Epoch: 330 \tTraining Loss: 233.987579 \tValidation Loss: 264.991150\n",
      "Epoch: 340 \tTraining Loss: 234.178818 \tValidation Loss: 265.026947\n",
      "Epoch: 350 \tTraining Loss: 234.241821 \tValidation Loss: 265.023071\n",
      "Epoch: 360 \tTraining Loss: 234.102921 \tValidation Loss: 265.127106\n",
      "Epoch: 370 \tTraining Loss: 232.852112 \tValidation Loss: 265.137909\n",
      "Epoch: 380 \tTraining Loss: 237.325119 \tValidation Loss: 265.074524\n",
      "Epoch: 390 \tTraining Loss: 234.637878 \tValidation Loss: 265.169983\n",
      "Epoch: 400 \tTraining Loss: 233.533951 \tValidation Loss: 265.182220\n",
      "Epoch: 410 \tTraining Loss: 234.198944 \tValidation Loss: 266.219788\n",
      "Epoch: 420 \tTraining Loss: 233.744934 \tValidation Loss: 266.181061\n",
      "Epoch: 430 \tTraining Loss: 235.483505 \tValidation Loss: 265.989105\n",
      "Epoch: 440 \tTraining Loss: 234.420227 \tValidation Loss: 265.899750\n",
      "Epoch: 450 \tTraining Loss: 232.491959 \tValidation Loss: 265.835205\n",
      "Epoch: 460 \tTraining Loss: 236.245224 \tValidation Loss: 265.735718\n",
      "Epoch: 470 \tTraining Loss: 236.395981 \tValidation Loss: 265.058258\n",
      "problem\n",
      "Epoch: 480 \tTraining Loss: 231.742935 \tValidation Loss: 264.926056\n",
      "Epoch: 490 \tTraining Loss: 237.221390 \tValidation Loss: 264.944214\n",
      "Epoch: 500 \tTraining Loss: 229.258423 \tValidation Loss: 264.937805\n"
     ]
    }
   ],
   "source": [
    "# model training\n",
    "\n",
    "train_loss_list = []\n",
    "valid_loss_list = []\n",
    "lstm = train_lstm(500, trainX,trainY, validX,validY, lstm, optimizer, \n",
    "                      criterion,'lstm_A1.pt',freq = 10)"
   ]
  },
  {
   "cell_type": "code",
   "execution_count": 55,
   "metadata": {},
   "outputs": [
    {
     "data": {
      "text/plain": [
       "<All keys matched successfully>"
      ]
     },
     "execution_count": 55,
     "metadata": {},
     "output_type": "execute_result"
    }
   ],
   "source": [
    "# load best model (previously saved)\n",
    "\n",
    "lstm.load_state_dict(torch.load('lstm_A1.pt'))"
   ]
  },
  {
   "cell_type": "code",
   "execution_count": 56,
   "metadata": {},
   "outputs": [
    {
     "data": {
      "text/plain": [
       "(808,)"
      ]
     },
     "execution_count": 56,
     "metadata": {},
     "output_type": "execute_result"
    }
   ],
   "source": [
    "# make predictions\n",
    "\n",
    "test_tensor =  torch.tensor(testX).type('torch.FloatTensor')\n",
    "lstm.eval()\n",
    "hidden = lstm.init_hidden(size_test)\n",
    "out,hidden = lstm(test_tensor,hidden)\n",
    "out = out.detach().numpy()\n",
    "out[:,-1].shape"
   ]
  },
  {
   "cell_type": "code",
   "execution_count": 57,
   "metadata": {},
   "outputs": [
    {
     "data": {
      "image/png": "[encoded data removed]",
      "text/plain": [
       "<Figure size 1080x432 with 1 Axes>"
      ]
     },
     "metadata": {
      "needs_background": "light"
     },
     "output_type": "display_data"
    }
   ],
   "source": [
    "# plot losses\n",
    "\n",
    "fig,axs = plt.subplots(1,1,figsize = (15,6))\n",
    "axs.plot(train_loss_list)\n",
    "axs.plot(valid_loss_list)\n",
    "axs.legend(['Training Loss','Validation Loss'])\n",
    "plt.savefig('validation.jpg')"
   ]
  },
  {
   "cell_type": "code",
   "execution_count": 58,
   "metadata": {},
   "outputs": [
    {
     "data": {
      "text/html": [
       "<div>\n",
       "<style scoped>\n",
       "    .dataframe tbody tr th:only-of-type {\n",
       "        vertical-align: middle;\n",
       "    }\n",
       "\n",
       "    .dataframe tbody tr th {\n",
       "        vertical-align: top;\n",
       "    }\n",
       "\n",
       "    .dataframe thead th {\n",
       "        text-align: right;\n",
       "    }\n",
       "</style>\n",
       "<table border=\"1\" class=\"dataframe\">\n",
       "  <thead>\n",
       "    <tr style=\"text-align: right;\">\n",
       "      <th></th>\n",
       "      <th>pred</th>\n",
       "      <th>actual</th>\n",
       "    </tr>\n",
       "  </thead>\n",
       "  <tbody>\n",
       "    <tr>\n",
       "      <th>803</th>\n",
       "      <td>1658.600952</td>\n",
       "      <td>1159.791552</td>\n",
       "    </tr>\n",
       "    <tr>\n",
       "      <th>804</th>\n",
       "      <td>1655.872070</td>\n",
       "      <td>397.486829</td>\n",
       "    </tr>\n",
       "    <tr>\n",
       "      <th>805</th>\n",
       "      <td>1609.425537</td>\n",
       "      <td>1231.864469</td>\n",
       "    </tr>\n",
       "    <tr>\n",
       "      <th>806</th>\n",
       "      <td>1628.771973</td>\n",
       "      <td>1699.693308</td>\n",
       "    </tr>\n",
       "    <tr>\n",
       "      <th>807</th>\n",
       "      <td>1606.292603</td>\n",
       "      <td>1477.151920</td>\n",
       "    </tr>\n",
       "  </tbody>\n",
       "</table>\n",
       "</div>"
      ],
      "text/plain": [
       "            pred       actual\n",
       "803  1658.600952  1159.791552\n",
       "804  1655.872070   397.486829\n",
       "805  1609.425537  1231.864469\n",
       "806  1628.771973  1699.693308\n",
       "807  1606.292603  1477.151920"
      ]
     },
     "execution_count": 58,
     "metadata": {},
     "output_type": "execute_result"
    }
   ],
   "source": [
    "df_out = pd.DataFrame()\n",
    "df_out['pred'] = out[:,-1]\n",
    "df_out['actual'] = testY[:,-1]\n",
    "#df_out.index = ts_data.index[train_percent + valid_percent:len(ts_data)-w-pred_window]\n",
    "\n",
    "df_out.tail()"
   ]
  },
  {
   "cell_type": "code",
   "execution_count": 59,
   "metadata": {},
   "outputs": [],
   "source": [
    "# calc prediction error\n",
    "\n",
    "df_out['error'] =np.abs(df_out['pred'] - df_out['actual'])\n",
    "error_mean = df_out['error'].rolling(window = 45).mean()\n",
    "error_std = df_out['error'].rolling(window = 45).std()\n",
    "error_mean.fillna(method='bfill',inplace=True)\n",
    "error_std.fillna(method='bfill',inplace=True)\n",
    "df_out['error_n'] = (df_out['error'] - df_out['error'].mean())/df_out['error'].std()\n",
    "#df_out.index = ts_data.index[train_percent +valid_percent+w+1-1:-w]\n",
    "df_out.index = test_idx"
   ]
  },
  {
   "cell_type": "code",
   "execution_count": 68,
   "metadata": {},
   "outputs": [
    {
     "name": "stderr",
     "output_type": "stream",
     "text": [
      "C:\\Users\\amand\\anaconda3\\lib\\site-packages\\ipykernel_launcher.py:2: SettingWithCopyWarning: \n",
      "A value is trying to be set on a copy of a slice from a DataFrame.\n",
      "Try using .loc[row_indexer,col_indexer] = value instead\n",
      "\n",
      "See the caveats in the documentation: https://pandas.pydata.org/pandas-docs/stable/user_guide/indexing.html#returning-a-view-versus-a-copy\n",
      "  \n"
     ]
    },
    {
     "data": {
      "text/html": [
       "<div>\n",
       "<style scoped>\n",
       "    .dataframe tbody tr th:only-of-type {\n",
       "        vertical-align: middle;\n",
       "    }\n",
       "\n",
       "    .dataframe tbody tr th {\n",
       "        vertical-align: top;\n",
       "    }\n",
       "\n",
       "    .dataframe thead th {\n",
       "        text-align: right;\n",
       "    }\n",
       "</style>\n",
       "<table border=\"1\" class=\"dataframe\">\n",
       "  <thead>\n",
       "    <tr style=\"text-align: right;\">\n",
       "      <th></th>\n",
       "      <th>pred</th>\n",
       "      <th>actual</th>\n",
       "      <th>error</th>\n",
       "      <th>error_n</th>\n",
       "      <th>is_anomaly</th>\n",
       "    </tr>\n",
       "  </thead>\n",
       "  <tbody>\n",
       "    <tr>\n",
       "      <th>1418968800</th>\n",
       "      <td>1561.500000</td>\n",
       "      <td>3755.844471</td>\n",
       "      <td>2194.344471</td>\n",
       "      <td>3.583707</td>\n",
       "      <td>1</td>\n",
       "    </tr>\n",
       "    <tr>\n",
       "      <th>1418972400</th>\n",
       "      <td>1561.092407</td>\n",
       "      <td>3755.844471</td>\n",
       "      <td>2194.752064</td>\n",
       "      <td>3.584642</td>\n",
       "      <td>1</td>\n",
       "    </tr>\n",
       "    <tr>\n",
       "      <th>1418976000</th>\n",
       "      <td>1561.092407</td>\n",
       "      <td>3755.844471</td>\n",
       "      <td>2194.752064</td>\n",
       "      <td>3.584642</td>\n",
       "      <td>1</td>\n",
       "    </tr>\n",
       "    <tr>\n",
       "      <th>1419094800</th>\n",
       "      <td>-145.216599</td>\n",
       "      <td>2041.956620</td>\n",
       "      <td>2187.173218</td>\n",
       "      <td>3.567248</td>\n",
       "      <td>1</td>\n",
       "    </tr>\n",
       "    <tr>\n",
       "      <th>1419098400</th>\n",
       "      <td>-92.244240</td>\n",
       "      <td>2041.956620</td>\n",
       "      <td>2134.200860</td>\n",
       "      <td>3.445674</td>\n",
       "      <td>1</td>\n",
       "    </tr>\n",
       "    <tr>\n",
       "      <th>1419102000</th>\n",
       "      <td>-57.593636</td>\n",
       "      <td>2041.956620</td>\n",
       "      <td>2099.550255</td>\n",
       "      <td>3.366150</td>\n",
       "      <td>1</td>\n",
       "    </tr>\n",
       "    <tr>\n",
       "      <th>1420945200</th>\n",
       "      <td>-1230.764771</td>\n",
       "      <td>772.095727</td>\n",
       "      <td>2002.860497</td>\n",
       "      <td>3.144242</td>\n",
       "      <td>0</td>\n",
       "    </tr>\n",
       "    <tr>\n",
       "      <th>1421362800</th>\n",
       "      <td>-1092.499268</td>\n",
       "      <td>933.320908</td>\n",
       "      <td>2025.820176</td>\n",
       "      <td>3.196936</td>\n",
       "      <td>0</td>\n",
       "    </tr>\n",
       "  </tbody>\n",
       "</table>\n",
       "</div>"
      ],
      "text/plain": [
       "                   pred       actual        error   error_n  is_anomaly\n",
       "1418968800  1561.500000  3755.844471  2194.344471  3.583707           1\n",
       "1418972400  1561.092407  3755.844471  2194.752064  3.584642           1\n",
       "1418976000  1561.092407  3755.844471  2194.752064  3.584642           1\n",
       "1419094800  -145.216599  2041.956620  2187.173218  3.567248           1\n",
       "1419098400   -92.244240  2041.956620  2134.200860  3.445674           1\n",
       "1419102000   -57.593636  2041.956620  2099.550255  3.366150           1\n",
       "1420945200 -1230.764771   772.095727  2002.860497  3.144242           0\n",
       "1421362800 -1092.499268   933.320908  2025.820176  3.196936           0"
      ]
     },
     "execution_count": 68,
     "metadata": {},
     "output_type": "execute_result"
    }
   ],
   "source": [
    "# define anomaly if beyond 3 sigma\n",
    "\n",
    "thresh = df_out.loc[df_out['error_n'].abs() >3]\n",
    "thresh['is_anomaly'] = ts_data.loc[thresh.index,'is_anomaly']\n",
    "thresh"
   ]
  },
  {
   "cell_type": "code",
   "execution_count": 69,
   "metadata": {},
   "outputs": [],
   "source": [
    "# calc TP, FN, FP, TN\n",
    "\n",
    "positives = ts_data.loc[df_out.index].loc[ts_data.is_anomaly == 1].index\n",
    "negatives = ts_data.loc[df_out.index].loc[ts_data.is_anomaly == 0].index\n",
    "tp = []\n",
    "fn = []\n",
    "fp = []\n",
    "tn = []\n",
    "for p in positives:\n",
    "    if p in thresh.index:\n",
    "        tp.append(p)\n",
    "    else:\n",
    "        fn.append(p)\n",
    "\n",
    "for n in negatives:\n",
    "    if n in thresh.index:\n",
    "        fp.append(n)\n",
    "    else:\n",
    "        tn.append(n)"
   ]
  },
  {
   "cell_type": "code",
   "execution_count": 70,
   "metadata": {},
   "outputs": [
    {
     "data": {
      "text/plain": [
       "0.7058823529411765"
      ]
     },
     "execution_count": 70,
     "metadata": {},
     "output_type": "execute_result"
    }
   ],
   "source": [
    "# calc f-score\n",
    "\n",
    "recall = len(tp)/(len(tp)+len(fn))\n",
    "precision = len(tp)/(len(tp)+len(fp))\n",
    "F_score = 2* recall*precision/(recall + precision)\n",
    "F_score"
   ]
  },
  {
   "cell_type": "code",
   "execution_count": 71,
   "metadata": {},
   "outputs": [
    {
     "data": {
      "text/plain": [
       "6"
      ]
     },
     "execution_count": 71,
     "metadata": {},
     "output_type": "execute_result"
    }
   ],
   "source": [
    "len(tp)"
   ]
  },
  {
   "cell_type": "code",
   "execution_count": 72,
   "metadata": {},
   "outputs": [
    {
     "data": {
      "text/plain": [
       "3"
      ]
     },
     "execution_count": 72,
     "metadata": {},
     "output_type": "execute_result"
    }
   ],
   "source": [
    "len(fn)"
   ]
  },
  {
   "cell_type": "code",
   "execution_count": 73,
   "metadata": {},
   "outputs": [],
   "source": [
    "df = pd.DataFrame()\n",
    "df.loc['Total Positives','Val'] = int(len(positives))\n",
    "df.loc['Total Negatives','Val'] = int(len(negatives))\n",
    "df.loc['True Positive','Val'] = int(len(tp))\n",
    "df.loc['False Postive','Val'] = int(len(fp))\n",
    "df.loc['True Negative','Val'] = int(len(tn))\n",
    "df.loc['False Negative','Val'] = int(len(fn))\n",
    "df.loc['F-score','Val'] = F_score"
   ]
  },
  {
   "cell_type": "code",
   "execution_count": 74,
   "metadata": {},
   "outputs": [
    {
     "data": {
      "text/html": [
       "<div>\n",
       "<style scoped>\n",
       "    .dataframe tbody tr th:only-of-type {\n",
       "        vertical-align: middle;\n",
       "    }\n",
       "\n",
       "    .dataframe tbody tr th {\n",
       "        vertical-align: top;\n",
       "    }\n",
       "\n",
       "    .dataframe thead th {\n",
       "        text-align: right;\n",
       "    }\n",
       "</style>\n",
       "<table border=\"1\" class=\"dataframe\">\n",
       "  <thead>\n",
       "    <tr style=\"text-align: right;\">\n",
       "      <th></th>\n",
       "      <th>Val</th>\n",
       "    </tr>\n",
       "  </thead>\n",
       "  <tbody>\n",
       "    <tr>\n",
       "      <th>Total Positives</th>\n",
       "      <td>9.000000</td>\n",
       "    </tr>\n",
       "    <tr>\n",
       "      <th>Total Negatives</th>\n",
       "      <td>799.000000</td>\n",
       "    </tr>\n",
       "    <tr>\n",
       "      <th>True Positive</th>\n",
       "      <td>6.000000</td>\n",
       "    </tr>\n",
       "    <tr>\n",
       "      <th>False Postive</th>\n",
       "      <td>2.000000</td>\n",
       "    </tr>\n",
       "    <tr>\n",
       "      <th>True Negative</th>\n",
       "      <td>797.000000</td>\n",
       "    </tr>\n",
       "    <tr>\n",
       "      <th>False Negative</th>\n",
       "      <td>3.000000</td>\n",
       "    </tr>\n",
       "    <tr>\n",
       "      <th>F-score</th>\n",
       "      <td>0.705882</td>\n",
       "    </tr>\n",
       "  </tbody>\n",
       "</table>\n",
       "</div>"
      ],
      "text/plain": [
       "                        Val\n",
       "Total Positives    9.000000\n",
       "Total Negatives  799.000000\n",
       "True Positive      6.000000\n",
       "False Postive      2.000000\n",
       "True Negative    797.000000\n",
       "False Negative     3.000000\n",
       "F-score            0.705882"
      ]
     },
     "execution_count": 74,
     "metadata": {},
     "output_type": "execute_result"
    }
   ],
   "source": [
    "# model prediction summary\n",
    "\n",
    "df"
   ]
  },
  {
   "cell_type": "code",
   "execution_count": 75,
   "metadata": {},
   "outputs": [
    {
     "data": {
      "image/png": "[encoded data removed]",
      "text/plain": [
       "<Figure size 1080x432 with 1 Axes>"
      ]
     },
     "metadata": {
      "needs_background": "light"
     },
     "output_type": "display_data"
    }
   ],
   "source": [
    "# plot test data and prediction\n",
    "\n",
    "fig,axs = plt.subplots(1,1,figsize = (15,6))\n",
    "axs.plot(df_out['pred'])\n",
    "axs.plot(df_out['actual'],alpha = 0.5)\n",
    "axs.set_title('Actual vs Predicted')\n",
    "axs.legend(['Predicted Value','Actual'])\n",
    "#plt.savefig('real_37.jpg')\n",
    "plt.savefig('synthetic_26.jpg')"
   ]
  },
  {
   "cell_type": "code",
   "execution_count": 488,
   "metadata": {},
   "outputs": [
    {
     "data": {
      "text/html": [
       "<div>\n",
       "<style scoped>\n",
       "    .dataframe tbody tr th:only-of-type {\n",
       "        vertical-align: middle;\n",
       "    }\n",
       "\n",
       "    .dataframe tbody tr th {\n",
       "        vertical-align: top;\n",
       "    }\n",
       "\n",
       "    .dataframe thead th {\n",
       "        text-align: right;\n",
       "    }\n",
       "</style>\n",
       "<table border=\"1\" class=\"dataframe\">\n",
       "  <thead>\n",
       "    <tr style=\"text-align: right;\">\n",
       "      <th></th>\n",
       "      <th>pred</th>\n",
       "      <th>actual</th>\n",
       "      <th>error</th>\n",
       "      <th>error_n</th>\n",
       "    </tr>\n",
       "    <tr>\n",
       "      <th>timestamp</th>\n",
       "      <th></th>\n",
       "      <th></th>\n",
       "      <th></th>\n",
       "      <th></th>\n",
       "    </tr>\n",
       "  </thead>\n",
       "  <tbody>\n",
       "    <tr>\n",
       "      <th>1420977600</th>\n",
       "      <td>-8.261481</td>\n",
       "      <td>708.350987</td>\n",
       "      <td>716.612468</td>\n",
       "      <td>0.757153</td>\n",
       "    </tr>\n",
       "    <tr>\n",
       "      <th>1420981200</th>\n",
       "      <td>-8.260743</td>\n",
       "      <td>740.067599</td>\n",
       "      <td>748.328342</td>\n",
       "      <td>0.881898</td>\n",
       "    </tr>\n",
       "    <tr>\n",
       "      <th>1420984800</th>\n",
       "      <td>-8.261151</td>\n",
       "      <td>757.815084</td>\n",
       "      <td>766.076235</td>\n",
       "      <td>0.951704</td>\n",
       "    </tr>\n",
       "    <tr>\n",
       "      <th>1420988400</th>\n",
       "      <td>-8.267326</td>\n",
       "      <td>764.074517</td>\n",
       "      <td>772.341843</td>\n",
       "      <td>0.976348</td>\n",
       "    </tr>\n",
       "    <tr>\n",
       "      <th>1420992000</th>\n",
       "      <td>-8.260720</td>\n",
       "      <td>773.919262</td>\n",
       "      <td>782.179982</td>\n",
       "      <td>1.015043</td>\n",
       "    </tr>\n",
       "    <tr>\n",
       "      <th>...</th>\n",
       "      <td>...</td>\n",
       "      <td>...</td>\n",
       "      <td>...</td>\n",
       "      <td>...</td>\n",
       "    </tr>\n",
       "    <tr>\n",
       "      <th>1421820000</th>\n",
       "      <td>-8.224688</td>\n",
       "      <td>704.830494</td>\n",
       "      <td>713.055182</td>\n",
       "      <td>0.743162</td>\n",
       "    </tr>\n",
       "    <tr>\n",
       "      <th>1421823600</th>\n",
       "      <td>-8.260543</td>\n",
       "      <td>724.648254</td>\n",
       "      <td>732.908797</td>\n",
       "      <td>0.821250</td>\n",
       "    </tr>\n",
       "    <tr>\n",
       "      <th>1421827200</th>\n",
       "      <td>-8.261003</td>\n",
       "      <td>699.915525</td>\n",
       "      <td>708.176529</td>\n",
       "      <td>0.723973</td>\n",
       "    </tr>\n",
       "    <tr>\n",
       "      <th>1421830800</th>\n",
       "      <td>-8.260637</td>\n",
       "      <td>742.103197</td>\n",
       "      <td>750.363835</td>\n",
       "      <td>0.889904</td>\n",
       "    </tr>\n",
       "    <tr>\n",
       "      <th>1421834400</th>\n",
       "      <td>-8.260744</td>\n",
       "      <td>767.619572</td>\n",
       "      <td>775.880316</td>\n",
       "      <td>0.990265</td>\n",
       "    </tr>\n",
       "  </tbody>\n",
       "</table>\n",
       "<p>239 rows × 4 columns</p>\n",
       "</div>"
      ],
      "text/plain": [
       "                pred      actual       error   error_n\n",
       "timestamp                                             \n",
       "1420977600 -8.261481  708.350987  716.612468  0.757153\n",
       "1420981200 -8.260743  740.067599  748.328342  0.881898\n",
       "1420984800 -8.261151  757.815084  766.076235  0.951704\n",
       "1420988400 -8.267326  764.074517  772.341843  0.976348\n",
       "1420992000 -8.260720  773.919262  782.179982  1.015043\n",
       "...              ...         ...         ...       ...\n",
       "1421820000 -8.224688  704.830494  713.055182  0.743162\n",
       "1421823600 -8.260543  724.648254  732.908797  0.821250\n",
       "1421827200 -8.261003  699.915525  708.176529  0.723973\n",
       "1421830800 -8.260637  742.103197  750.363835  0.889904\n",
       "1421834400 -8.260744  767.619572  775.880316  0.990265\n",
       "\n",
       "[239 rows x 4 columns]"
      ]
     },
     "execution_count": 488,
     "metadata": {},
     "output_type": "execute_result"
    }
   ],
   "source": [
    "# output df\n",
    "\n",
    "df_out"
   ]
  }
 ],
 "metadata": {
  "kernelspec": {
   "display_name": "Python 3",
   "language": "python",
   "name": "python3"
  },
  "language_info": {
   "codemirror_mode": {
    "name": "ipython",
    "version": 3
   },
   "file_extension": ".py",
   "mimetype": "text/x-python",
   "name": "python",
   "nbconvert_exporter": "python",
   "pygments_lexer": "ipython3",
   "version": "3.7.7"
  },
  "toc": {
   "base_numbering": 1,
   "nav_menu": {},
   "number_sections": true,
   "sideBar": true,
   "skip_h1_title": false,
   "title_cell": "Table of Contents",
   "title_sidebar": "Contents",
   "toc_cell": true,
   "toc_position": {},
   "toc_section_display": true,
   "toc_window_display": false
  }
 },
 "nbformat": 4,
 "nbformat_minor": 4
}
