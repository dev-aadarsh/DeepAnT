{
 "cells": [
  {
   "cell_type": "code",
   "execution_count": 1,
   "metadata": {},
   "outputs": [],
   "source": [
    "import matplotlib.pyplot as plt\n",
    "import numpy as np\n",
    "import pandas as pd\n",
    "import yfinance as yf"
   ]
  },
  {
   "cell_type": "markdown",
   "metadata": {},
   "source": [
    "# Define functions"
   ]
  },
  {
   "cell_type": "markdown",
   "metadata": {},
   "source": [
    "## Function to select date range"
   ]
  },
  {
   "cell_type": "code",
   "execution_count": 2,
   "metadata": {},
   "outputs": [],
   "source": [
    "def get_date_range():\n",
    "    start_yyyy = int(np.random.uniform(low=2000,high=2020))\n",
    "    end_yyyy = int(np.random.uniform(low=start_yyyy,high=2020))\n",
    "    start_yyyy, end_yyyy\n",
    "\n",
    "    start_date = str(start_yyyy) + '-01-01'\n",
    "    end_date = str(end_yyyy) + '-12-31'\n",
    "    \n",
    "    return start_date, end_date"
   ]
  },
  {
   "cell_type": "markdown",
   "metadata": {},
   "source": [
    "## Function to pull daily closes from Y-Finance"
   ]
  },
  {
   "cell_type": "code",
   "execution_count": 3,
   "metadata": {},
   "outputs": [],
   "source": [
    "def get_close_price_df(yf_ticker):\n",
    "    # generate dates randomly\n",
    "    start_date, end_date = get_date_range()\n",
    "\n",
    "    data = yf.download(yf_ticker, start=start_date, end=end_date, progress=False, interval='1d')\n",
    "\n",
    "    # follow the nomenclature of Yahoo Webscope outlier datasets\n",
    "    data.rename(columns={'Close':'value'}, inplace=True)\n",
    "    data['timestamp'] = [int(x.timestamp()) for x in data.index.to_pydatetime()]\n",
    "    \n",
    "    data.reset_index(drop=True, inplace=True)\n",
    "    data = data.filter(['timestamp', 'value'])\n",
    "    \n",
    "    return data"
   ]
  },
  {
   "cell_type": "markdown",
   "metadata": {},
   "source": [
    "## Function to generate random outliers"
   ]
  },
  {
   "cell_type": "code",
   "execution_count": 4,
   "metadata": {},
   "outputs": [],
   "source": [
    "def generate_outlier_df(df):\n",
    "    data_size = len(df)\n",
    "\n",
    "    # randomly decide the number of outliers (b/w 1% to 3%)\n",
    "    num_outlier = int(np.random.uniform(low=0.01, high=0.03) * data_size)\n",
    "\n",
    "    # let's set the outlier std to be 10 times the average daily change in price\n",
    "    avg_price_change = df['value'].diff().abs().mean()\n",
    "\n",
    "    data_size, num_outlier, avg_price_change\n",
    "\n",
    "    # define dataframe to store outlier values and locations\n",
    "    outlier_df = pd.DataFrame()\n",
    "\n",
    "    # generate list of magnitudes of outlier price changes\n",
    "    outlier_magnitude_list = np.random.normal(size=num_outlier, loc=5 * avg_price_change, scale=avg_price_change)\n",
    "    outlier_sign_list = np.random.choice([-1, 1], size=num_outlier)\n",
    "    outlier_df['value'] = outlier_magnitude_list * outlier_sign_list\n",
    "\n",
    "    # randomly chose the place where we want to put the outliers\n",
    "    outlier_df['location'] = [int(x) for x in np.random.uniform(size=num_outlier) * data_size]\n",
    "    \n",
    "    return outlier_df"
   ]
  },
  {
   "cell_type": "markdown",
   "metadata": {},
   "source": [
    "## Function to add outliers to existing data"
   ]
  },
  {
   "cell_type": "code",
   "execution_count": 5,
   "metadata": {},
   "outputs": [],
   "source": [
    "def add_random_outliers(df):\n",
    "    # mark current points as normal\n",
    "    df['is_anomaly'] = 0\n",
    "    \n",
    "    # generate df of outliers\n",
    "    outlier_df = generate_outlier_df(df)\n",
    "\n",
    "    # add outliers to the original data\n",
    "    for _, row in outlier_df.iterrows():\n",
    "        df.at[row['location'], 'value'] += row['value']\n",
    "        df.at[row['location'], 'is_anomaly'] = 1\n",
    "    \n",
    "    return df"
   ]
  },
  {
   "cell_type": "markdown",
   "metadata": {},
   "source": [
    "## Combined function to pull data and generate outliers"
   ]
  },
  {
   "cell_type": "code",
   "execution_count": 6,
   "metadata": {},
   "outputs": [],
   "source": [
    "def generate_labeled_outlier_df(yf_ticker):\n",
    "    # pull data from yfinance\n",
    "    df = get_close_price_df(yf_ticker)\n",
    "    \n",
    "    # add random outliers\n",
    "    df = add_random_outliers(df)\n",
    "    \n",
    "    return df"
   ]
  },
  {
   "cell_type": "markdown",
   "metadata": {},
   "source": [
    "## Function to plot data and anomalies"
   ]
  },
  {
   "cell_type": "code",
   "execution_count": 7,
   "metadata": {},
   "outputs": [],
   "source": [
    "def plot(df):\n",
    "    plt.plot(df['value']);\n",
    "\n",
    "    if 'is_anomaly' in df.columns:\n",
    "        plt.scatter(df[df['is_anomaly'] == True].index, df[df['is_anomaly'] == True]['value'], color='red')\n",
    "    \n",
    "    plt.tight_layout()\n",
    "    plt.show()"
   ]
  },
  {
   "cell_type": "markdown",
   "metadata": {},
   "source": [
    "# Sample output"
   ]
  },
  {
   "cell_type": "code",
   "execution_count": 8,
   "metadata": {},
   "outputs": [
    {
     "data": {
      "image/png": "[encoded data removed]",
      "text/plain": [
       "<Figure size 432x288 with 1 Axes>"
      ]
     },
     "metadata": {
      "needs_background": "light"
     },
     "output_type": "display_data"
    }
   ],
   "source": [
    "# with outliers\n",
    "df = generate_labeled_outlier_df('^GSPC')\n",
    "plot(df)"
   ]
  },
  {
   "cell_type": "markdown",
   "metadata": {},
   "source": [
    "# Now run for 10 securities and save csv files"
   ]
  },
  {
   "cell_type": "code",
   "execution_count": 9,
   "metadata": {},
   "outputs": [],
   "source": [
    "# csv files will be saved here\n",
    "folder_name = 'synthetic-labeled-data'"
   ]
  },
  {
   "cell_type": "code",
   "execution_count": 10,
   "metadata": {},
   "outputs": [],
   "source": [
    "securities = ['^GSPC', 'MSFT', 'AAPL', 'GS', 'T', 'KO', 'GE', 'MA', 'NKE', 'MMM']\n",
    "for s in securities:\n",
    "    df = generate_labeled_outlier_df(s)\n",
    "    df.to_csv(folder_name + '/' + s.lower() + '.csv')"
   ]
  }
 ],
 "metadata": {
  "kernelspec": {
   "display_name": "Python 3",
   "language": "python",
   "name": "python3"
  },
  "language_info": {
   "codemirror_mode": {
    "name": "ipython",
    "version": 3
   },
   "file_extension": ".py",
   "mimetype": "text/x-python",
   "name": "python",
   "nbconvert_exporter": "python",
   "pygments_lexer": "ipython3",
   "version": "3.7.7"
  }
 },
 "nbformat": 4,
 "nbformat_minor": 4
}
